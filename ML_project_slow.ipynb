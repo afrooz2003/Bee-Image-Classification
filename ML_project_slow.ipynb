{
 "cells": [
  {
   "cell_type": "code",
   "execution_count": 7,
   "id": "71b851f3",
   "metadata": {
    "scrolled": true
   },
   "outputs": [
    {
     "name": "stdout",
     "output_type": "stream",
     "text": [
      "Found 20858 images belonging to 2 classes.\n",
      "Found 4471 images belonging to 2 classes.\n",
      "Found 4470 images belonging to 2 classes.\n"
     ]
    }
   ],
   "source": [
    "from os.path import join\n",
    "import datetime\n",
    "from os import listdir\n",
    "from os import getcwd\n",
    "from os.path import isfile, splitext\n",
    "import numpy as np\n",
    "import keras\n",
    "import cv2\n",
    "from tensorflow.keras.preprocessing.image import ImageDataGenerator\n",
    "from matplotlib.pyplot import imread\n",
    "import os\n",
    "from sklearn.model_selection import train_test_split\n",
    "import tensorflow as tf\n",
    "\n",
    "\n",
    "\n",
    "# a method to correct an incorrect directory structure for the keras imagedatagenerator\n",
    "def correct_directory_structure(train_percent, test_percent, validation_percent, *dpaths): #dpaths: directories with classes of data\n",
    "    import random\n",
    "    from math import floor\n",
    "    cwd = getcwd() + '\\\\'\n",
    "    dir_list = listdir(cwd)\n",
    "    #check that we are not overwriting directories train,test,validation\n",
    "    assert not any (d in dir_list for d in ['train', 'test', 'validation']), 'cannot correct directory structure, as some files will be overwritten'\n",
    "    assert all (d in dir_list for d in dpaths), 'the listed directories are not in the current path'\n",
    "    \n",
    "    [os.mkdir(f\"{i}\") for i in ['train','test','validation']]\n",
    "    [os.mkdir(f\"{i}\\\\{d}\") for i in ['train','test','validation'] for d in dpaths]\n",
    "        \n",
    "    data_gen = ((d,listdir(d)) for d in dpaths)\n",
    "    for d,i in data_gen:\n",
    "        shuffled_files = random.sample(i,len(i))\n",
    "        \n",
    "        train_end = floor(len(shuffled_files)*train_percent)\n",
    "        test_end = floor(train_end + (len(shuffled_files) - train_end)*test_percent/(test_percent + validation_percent))\n",
    "        \n",
    "        train_data = shuffled_files[0:train_end]\n",
    "        test_data = shuffled_files[train_end:test_end]\n",
    "        validation_data = shuffled_files[test_end:]\n",
    "        \n",
    "        for m in train_data:\n",
    "            try:\n",
    "                os.rename (f\"{cwd}{d}\\\\{m}\", f\"{cwd}train\\\\{d}\\\\{m}\")\n",
    "            except:\n",
    "                print (\"hit and error, moving forward\")\n",
    "        for m in test_data:\n",
    "            try:\n",
    "                os.rename (f\"{cwd}{d}\\\\{m}\", f\"{cwd}test\\\\{d}\\\\{m}\")\n",
    "            except:\n",
    "                print (\"hit and error, moving forward\")\n",
    "        for m in validation_data:\n",
    "            try:\n",
    "                os.rename (f\"{cwd}{d}\\\\{m}\", f\"{cwd}validation\\\\{d}\\\\{m}\")\n",
    "            except:\n",
    "                print (\"hit and error, moving forward\")\n",
    "    \n",
    "image_shape = (400,400,3)\n",
    "\n",
    "# returns the iterators for data in directories so the model can be trained on batches of data without needing much RAM\n",
    "def get_image_iterators(train_dir = 'train',\n",
    "                        val_dir = 'validation',\n",
    "                        test_dir = 'test',\n",
    "                        mode = 'binary',\n",
    "                        batch = 64,\n",
    "                        size = image_shape[:2],\n",
    "                        processing = None): \n",
    "    cwd = getcwd() + '\\\\'\n",
    "    image_gen = ImageDataGenerator(\n",
    "        rotation_range = 90,\n",
    "        width_shift_range = 0.1,\n",
    "        height_shift_range = 0.1,\n",
    "        shear_range = 5,\n",
    "        brightness_range = (0.7,1.),\n",
    "        horizontal_flip = True,\n",
    "        vertical_flip = True,\n",
    "        preprocessing_function = processing\n",
    "    )\n",
    "    # these already shuffle the data\n",
    "    train_set = image_gen.flow_from_directory(train_dir, class_mode = mode, batch_size = batch, target_size = size)\n",
    "    val_set = image_gen.flow_from_directory(val_dir, class_mode = mode, batch_size = batch, target_size = size)\n",
    "    test_set = image_gen.flow_from_directory(test_dir, class_mode = mode, batch_size = batch, target_size = size)\n",
    "    return (train_set, val_set, test_set)\n",
    "\n",
    "#correct_directory_structure(0.7,0.15,0.15, 'Bees', 'Not_Bees')\n",
    "\n",
    "# for this function to work, the directory structure must be:\n",
    "# train/\n",
    "#    |\n",
    "#    ├── class_1/\n",
    "#    |       ├── image1.jpg\n",
    "#    |       ├── image2.jpg\n",
    "#    |       └── ...\n",
    "#    |\n",
    "#    ├── class_2/\n",
    "#    |       ├── image1.jpg\n",
    "#    |       ├── image2.jpg\n",
    "#    |       └── ...\n",
    "# test/\n",
    "#    |\n",
    "#    ├── class_1/\n",
    "#    |       ├── image1.jpg\n",
    "#    |       ├── image2.jpg\n",
    "#    |       └── ...\n",
    "#    |\n",
    "#    ├── class_2/\n",
    "#    |       ├── image1.jpg\n",
    "#    |       ├── image2.jpg\n",
    "#    |       └── ...\n",
    "# ...\n",
    "\n",
    "# my machine has enough RAM to handle 1000 images, but decrease it if you encounter problems\n",
    "train,validation,test = get_image_iterators(batch = 32)"
   ]
  },
  {
   "cell_type": "markdown",
   "id": "b442c418",
   "metadata": {},
   "source": [
    "# Setting up Tensorboard"
   ]
  },
  {
   "cell_type": "code",
   "execution_count": 2,
   "id": "68489584",
   "metadata": {},
   "outputs": [],
   "source": [
    "# setting up tensorboard for visualisation\n",
    "\n",
    "%reload_ext tensorboard\n",
    "\n",
    "log = join (getcwd(), \"tflogs\", \"fit\", datetime.datetime.now().strftime(\"%Y%m%d%H%M%S\"))\n",
    "\n",
    "tf_callback = tf.keras.callbacks.TensorBoard (log_dir=log, histogram_freq = 1)"
   ]
  },
  {
   "cell_type": "markdown",
   "id": "3f225572",
   "metadata": {},
   "source": [
    "# Making custom callbacks"
   ]
  },
  {
   "cell_type": "code",
   "execution_count": 15,
   "id": "91e24bd2",
   "metadata": {},
   "outputs": [],
   "source": [
    "class SaverCallback (tf.keras.callbacks.Callback):\n",
    "    def __init__ (self, model, test_data, save_path, batch = 10): # test_data must be either a keras sequence or dataset\n",
    "        self.best = test_data if type(test_data) == float else model.evaluate(test_data, callbacks = [self], batch_size = batch)[1] #init val accuracy \n",
    "        self.save_path = save_path\n",
    "        self.model = model\n",
    "    def on_epoch_end (self, epoch, logs = None):\n",
    "        assert logs.get('val_accuracy') != None\n",
    "        \n",
    "        if self.best < logs['val_accuracy']:\n",
    "            self.best = logs['val_accuracy']\n",
    "            self.model.save(self.save_path)\n",
    "\n",
    "class val_accuracy_recorder (keras.callbacks.Callback):\n",
    "    def __init__ (self):\n",
    "        self.accuracies = []\n",
    "        self.best_accuracy = -np.inf\n",
    "        self.train_accuracies = []\n",
    "        self.avg_accuracies = []\n",
    "    def on_epoch_end (self, epoch, logs=None):\n",
    "        assert logs.get('val_accuracy') != None, 'no validation set for val_acc_recorder'\n",
    "        self.train_accuracies.append(logs['val_accuracy'])\n",
    "        if self.best_accuracy < logs['val_accuracy']:\n",
    "            self.best_accuracy = logs['val_accuracy']\n",
    "            \n",
    "    def on_train_end (self, logs=None):\n",
    "        self.accuracies.append(self.best_accuracy)\n",
    "        # reset for next model training\n",
    "        self.best_accuracy = -np.inf\n",
    "        self.avg_accuracies.append(sum(self.train_accuracies)/len(self.train_accuracies))\n",
    "        \n",
    "            \n",
    "        \n",
    "\n"
   ]
  },
  {
   "cell_type": "markdown",
   "id": "c6dfac55",
   "metadata": {},
   "source": [
    "# CNN"
   ]
  },
  {
   "cell_type": "code",
   "execution_count": 4,
   "id": "fa1485c7",
   "metadata": {},
   "outputs": [],
   "source": [
    "# run this if you don't have a model yet, else run the next cell\n",
    "model = tf.keras.Sequential([\n",
    "    tf.keras.layers.Conv2D(32, (3,3), padding='same', activation=tf.nn.relu,\n",
    "                           input_shape=image_shape),\n",
    "    tf.keras.layers.MaxPooling2D((2, 2), strides=2),\n",
    "    tf.keras.layers.Conv2D(64, (3,3), padding='same', activation=tf.nn.relu),\n",
    "    tf.keras.layers.MaxPooling2D((2, 2), strides=2),\n",
    "    tf.keras.layers.Flatten(),\n",
    "    tf.keras.layers.Dense(128, activation=tf.nn.relu),\n",
    "    tf.keras.layers.Dense(1, activation=tf.nn.sigmoid)\n",
    "])\n",
    "model.compile (\n",
    "    optimizer = 'adam',\n",
    "    loss = 'binary_crossentropy',\n",
    "    metrics= ['accuracy']\n",
    ")\n"
   ]
  },
  {
   "cell_type": "code",
   "execution_count": 5,
   "id": "5f312635",
   "metadata": {},
   "outputs": [],
   "source": [
    "CNN_model_path = join(getcwd(), 'models', 'CNNmodel')\n",
    "model = keras.models.load_model (CNN_model_path)"
   ]
  },
  {
   "cell_type": "code",
   "execution_count": 16,
   "id": "c66a3faa",
   "metadata": {},
   "outputs": [],
   "source": [
    "saver = SaverCallback(model, 0.892, CNN_model_path)"
   ]
  },
  {
   "cell_type": "code",
   "execution_count": null,
   "id": "23aed02f",
   "metadata": {
    "scrolled": false
   },
   "outputs": [
    {
     "name": "stdout",
     "output_type": "stream",
     "text": [
      "Epoch 26/30\n",
      "652/652 [==============================] - 676s 1s/step - loss: 0.3094 - accuracy: 0.8792 - val_loss: 0.2838 - val_accuracy: 0.8920\n",
      "Epoch 27/30\n",
      "652/652 [==============================] - ETA: 0s - loss: 0.2963 - accuracy: 0.8845"
     ]
    }
   ],
   "source": [
    "model.fit(train, validation_data = validation, callbacks = [tf_callback, saver], epochs = 30, initial_epoch = 25, batch_size = 10) # remove initial epoch if this is the first time"
   ]
  },
  {
   "cell_type": "code",
   "execution_count": 25,
   "id": "c8d770b5",
   "metadata": {
    "scrolled": true
   },
   "outputs": [
    {
     "name": "stdout",
     "output_type": "stream",
     "text": [
      "70/70 [==============================] - 135s 2s/step - loss: 0.2888 - accuracy: 0.8879\n"
     ]
    },
    {
     "data": {
      "text/plain": [
       "[0.2887553870677948, 0.8879194855690002]"
      ]
     },
     "execution_count": 25,
     "metadata": {},
     "output_type": "execute_result"
    }
   ],
   "source": [
    "model.evaluate (test)"
   ]
  },
  {
   "cell_type": "markdown",
   "id": "2591e696",
   "metadata": {},
   "source": [
    "# PCA with CNN"
   ]
  },
  {
   "cell_type": "code",
   "execution_count": 27,
   "id": "3d33b3b2",
   "metadata": {},
   "outputs": [],
   "source": [
    "import matplotlib.pyplot as plt\n",
    "from sklearn.decomposition import PCA\n",
    "from scipy.stats import stats\n",
    "import matplotlib.image as mpimg\n",
    "\n",
    "compression = 20\n",
    "def compress_images(img):\n",
    "\n",
    "        # Split into channels\n",
    "        blue, green, red = cv2.split(img)\n",
    "\n",
    "        # Scale the data between 0 and 1 for all channels\n",
    "        r = red / 255\n",
    "        b = blue / 255\n",
    "        g = green / 255\n",
    "\n",
    "        # Fit and transform data in PCA to reduce dimensionality\n",
    "        red_pca = PCA(n_components=compression)\n",
    "        red_pca.fit(r)\n",
    "        red_trans = red_pca.transform(r)\n",
    "\n",
    "        blue_pca = PCA(n_components=compression)\n",
    "        blue_pca.fit(b)\n",
    "        blue_trans = blue_pca.transform(b)\n",
    "\n",
    "        green_pca = PCA(n_components=compression)\n",
    "        green_pca.fit(g)\n",
    "        green_trans = green_pca.transform(g)\n",
    "\n",
    "        # Reconstruct the images\n",
    "        r_arr = red_pca.inverse_transform(red_trans)\n",
    "        b_arr = blue_pca.inverse_transform(blue_trans)\n",
    "        g_arr = green_pca.inverse_transform(green_trans)\n",
    "\n",
    "        # Merge channels into one\n",
    "        compressed_image = (cv2.merge((b_arr, g_arr, r_arr)))\n",
    "        return np.array(compressed_image)\n",
    "\n",
    "\n"
   ]
  },
  {
   "cell_type": "code",
   "execution_count": 23,
   "id": "501fa6f4",
   "metadata": {},
   "outputs": [],
   "source": [
    "modelPCA = tf.keras.Sequential([\n",
    "    tf.keras.layers.Conv2D(32, (3,3), padding='same', activation=tf.nn.relu,\n",
    "                           input_shape=image_shape),\n",
    "    tf.keras.layers.MaxPooling2D((2, 2), strides=2),\n",
    "    tf.keras.layers.Conv2D(64, (3,3), padding='same', activation=tf.nn.relu),\n",
    "    tf.keras.layers.MaxPooling2D((2, 2), strides=2),\n",
    "    tf.keras.layers.Flatten(),\n",
    "    tf.keras.layers.Dense(128, activation=tf.nn.relu),\n",
    "    tf.keras.layers.Dense(1, activation=tf.nn.sigmoid)\n",
    "])\n",
    "\n",
    "modelPCA.compile (\n",
    "    optimizer = 'adam',\n",
    "    loss = 'binary_crossentropy',\n",
    "    metrics= ['accuracy']\n",
    ")\n"
   ]
  },
  {
   "cell_type": "code",
   "execution_count": 33,
   "id": "bf60f067",
   "metadata": {
    "scrolled": true
   },
   "outputs": [
    {
     "name": "stdout",
     "output_type": "stream",
     "text": [
      "Found 20858 images belonging to 2 classes.\n",
      "Found 4471 images belonging to 2 classes.\n",
      "Found 4470 images belonging to 2 classes.\n",
      "Epoch 1/10\n",
      "326/326 [==============================] - 1629s 5s/step - loss: 0.7537 - accuracy: 0.7313 - val_loss: 0.5395 - val_accuracy: 0.7202\n",
      "Epoch 2/10\n",
      "326/326 [==============================] - 1655s 5s/step - loss: 0.4482 - accuracy: 0.8167 - val_loss: 0.4002 - val_accuracy: 0.8376\n",
      "Epoch 3/10\n",
      "326/326 [==============================] - 1618s 5s/step - loss: 0.3807 - accuracy: 0.8576 - val_loss: 0.3423 - val_accuracy: 0.8741\n",
      "Epoch 4/10\n",
      "326/326 [==============================] - 1581s 5s/step - loss: 0.3339 - accuracy: 0.8720 - val_loss: 0.3002 - val_accuracy: 0.8803\n",
      "Epoch 5/10\n",
      "326/326 [==============================] - 1597s 5s/step - loss: 0.2988 - accuracy: 0.8881 - val_loss: 0.2619 - val_accuracy: 0.8953\n",
      "Epoch 6/10\n",
      "326/326 [==============================] - 1566s 5s/step - loss: 0.2749 - accuracy: 0.8929 - val_loss: 0.2525 - val_accuracy: 0.9038\n",
      "Epoch 7/10\n",
      "326/326 [==============================] - 1558s 5s/step - loss: 0.2520 - accuracy: 0.9050 - val_loss: 0.2318 - val_accuracy: 0.9079\n",
      "Epoch 8/10\n",
      "326/326 [==============================] - 1575s 5s/step - loss: 0.2325 - accuracy: 0.9077 - val_loss: 0.2362 - val_accuracy: 0.9045\n",
      "Epoch 9/10\n",
      "326/326 [==============================] - 1546s 5s/step - loss: 0.2255 - accuracy: 0.9105 - val_loss: 0.2133 - val_accuracy: 0.9117\n",
      "Epoch 10/10\n",
      "326/326 [==============================] - 1563s 5s/step - loss: 0.2209 - accuracy: 0.9114 - val_loss: 0.2045 - val_accuracy: 0.9181\n"
     ]
    },
    {
     "data": {
      "text/plain": [
       "<keras.callbacks.History at 0x1e0c70fac70>"
      ]
     },
     "execution_count": 33,
     "metadata": {},
     "output_type": "execute_result"
    }
   ],
   "source": [
    "train,validation,test = get_image_iterators(processing = compress_images)\n",
    "\n",
    "modelPCA.fit(train, validation_data = validation, epochs = 10, callbacks = [tf_callback])"
   ]
  },
  {
   "cell_type": "markdown",
   "id": "50150b61",
   "metadata": {},
   "source": [
    "# Testing trend for increasing compression with limited data set"
   ]
  },
  {
   "cell_type": "code",
   "execution_count": 28,
   "id": "07f26bf2",
   "metadata": {
    "scrolled": true
   },
   "outputs": [
    {
     "name": "stdout",
     "output_type": "stream",
     "text": [
      "Found 20858 images belonging to 2 classes.\n",
      "Found 4471 images belonging to 2 classes.\n",
      "Found 4470 images belonging to 2 classes.\n"
     ]
    }
   ],
   "source": [
    "train,validation,test = get_image_iterators(processing = compress_images)"
   ]
  },
  {
   "cell_type": "code",
   "execution_count": 29,
   "id": "b87a18db",
   "metadata": {},
   "outputs": [],
   "source": [
    "#making a fold left function\n",
    "from functools import reduce\n",
    "stack_features_and_labels = lambda fl1, fl2: (np.vstack((fl1[0], fl2[0])), np.hstack((fl1[1], fl2[1])))\n",
    "\n",
    "# take some data and load it into ram so it's fast to train with it\n",
    "def limit_data (data, included_batches): # requires an iterator\n",
    "    holder = next(data)\n",
    "    for i in range (1, included_batches):\n",
    "        holder = stack_features_and_labels (holder, next(data))\n",
    "    return holder"
   ]
  },
  {
   "cell_type": "code",
   "execution_count": 40,
   "id": "57dc8d43",
   "metadata": {},
   "outputs": [],
   "source": [
    "limited_train_data = limit_data(train,1)\n",
    "limited_test_data = limit_data(test,1)\n",
    "limited_validation_data = limit_data(validation,1)"
   ]
  },
  {
   "cell_type": "code",
   "execution_count": 41,
   "id": "22cbc344",
   "metadata": {},
   "outputs": [],
   "source": [
    "limited_test_data = tf.data.Dataset.from_tensor_slices (limited_test_data)\n",
    "limited_test_data = limited_test_data.batch(32)"
   ]
  },
  {
   "cell_type": "code",
   "execution_count": 54,
   "id": "4e0b98dd",
   "metadata": {},
   "outputs": [
    {
     "name": "stdout",
     "output_type": "stream",
     "text": [
      "2/2 [==============================] - 0s 39ms/step - loss: 0.6754 - accuracy: 0.6719\n"
     ]
    },
    {
     "name": "stderr",
     "output_type": "stream",
     "text": [
      "WARNING:absl:Found untraced functions such as _jit_compiled_convolution_op, _jit_compiled_convolution_op while saving (showing 2 of 2). These functions will not be directly callable after loading.\n"
     ]
    },
    {
     "name": "stdout",
     "output_type": "stream",
     "text": [
      "INFO:tensorflow:Assets written to: idunno\\assets\n"
     ]
    },
    {
     "name": "stderr",
     "output_type": "stream",
     "text": [
      "INFO:tensorflow:Assets written to: idunno\\assets\n"
     ]
    },
    {
     "name": "stdout",
     "output_type": "stream",
     "text": [
      "model saved: False\n"
     ]
    },
    {
     "name": "stderr",
     "output_type": "stream",
     "text": [
      "WARNING:absl:Found untraced functions such as _jit_compiled_convolution_op, _jit_compiled_convolution_op while saving (showing 2 of 2). These functions will not be directly callable after loading.\n"
     ]
    },
    {
     "name": "stdout",
     "output_type": "stream",
     "text": [
      "INFO:tensorflow:Assets written to: idunno\\assets\n"
     ]
    },
    {
     "name": "stderr",
     "output_type": "stream",
     "text": [
      "INFO:tensorflow:Assets written to: idunno\\assets\n"
     ]
    },
    {
     "name": "stdout",
     "output_type": "stream",
     "text": [
      "model saved: False\n"
     ]
    },
    {
     "data": {
      "text/plain": [
       "<keras.callbacks.History at 0x1b7679fb700>"
      ]
     },
     "execution_count": 54,
     "metadata": {},
     "output_type": "execute_result"
    }
   ],
   "source": [
    "trend_tester_model = tf.keras.Sequential([\n",
    "    tf.keras.layers.Conv2D(32, (3,3), padding='same', activation=tf.nn.relu,\n",
    "                           input_shape=image_shape),\n",
    "    tf.keras.layers.MaxPooling2D((2, 2), strides=2),\n",
    "    tf.keras.layers.Conv2D(64, (3,3), padding='same', activation=tf.nn.relu),\n",
    "    tf.keras.layers.MaxPooling2D((2, 2), strides=2),\n",
    "    tf.keras.layers.Flatten(),\n",
    "    tf.keras.layers.Dense(128, activation=tf.nn.relu),\n",
    "    tf.keras.layers.Dense(1, activation=tf.nn.sigmoid)\n",
    "])\n",
    "\n",
    "trend_tester_model.compile (\n",
    "    optimizer = 'adam',\n",
    "    loss = 'binary_crossentropy',\n",
    "    metrics= ['accuracy']\n",
    ") \n",
    "\n",
    "# but before we begin... let's save the weights and reset them after every training session\n",
    "weights_path = join(getcwd(), 'trend_tester_weights')\n",
    "trend_tester_model.save_weights (weights_path)\n",
    "validation_accuracies = val_accuracy_recorder()\n",
    "\n",
    "for i in range (40, 0, -1):\n",
    "    compression = i\n",
    "    trend_tester_model.load_weights (weights_path)\n",
    "    trend_tester_model.fit(limited_train_data[0],\n",
    "                           limited_train_data[1],\n",
    "                           validation_data = limited_validation_data ,\n",
    "                           batch_size= 10,\n",
    "                           epochs = 10,\n",
    "                          callbacks = [validation_accuracies, saver],\n",
    "                          verbose = 0)\n",
    "\n"
   ]
  },
  {
   "cell_type": "code",
   "execution_count": 22,
   "id": "3b60ca88",
   "metadata": {},
   "outputs": [
    {
     "data": {
      "image/png": "[encoded data removed]",
      "text/plain": [
       "<Figure size 640x480 with 1 Axes>"
      ]
     },
     "metadata": {},
     "output_type": "display_data"
    }
   ],
   "source": [
    "\n",
    "x = range(40,0,-1)\n",
    "y = validation_accuracies.accuracies\n",
    "\n",
    "plt.style.use('dark_background')\n",
    "ax = plt.subplot()\n",
    "ax.plot (x,y)\n",
    "ax.invert_xaxis()"
   ]
  },
  {
   "cell_type": "code",
   "execution_count": 24,
   "id": "2fbe72ea",
   "metadata": {},
   "outputs": [
    {
     "data": {
      "image/png": "[encoded data removed]",
      "text/plain": [
       "<Figure size 640x480 with 1 Axes>"
      ]
     },
     "metadata": {},
     "output_type": "display_data"
    }
   ],
   "source": [
    "y = validation_accuracies.avg_accuracies\n",
    "ax = plt.subplot()\n",
    "ax.plot (x,y)\n",
    "ax.invert_xaxis()"
   ]
  }
 ],
 "metadata": {
  "kernelspec": {
   "display_name": "Python 3 (ipykernel)",
   "language": "python",
   "name": "python3"
  },
  "language_info": {
   "codemirror_mode": {
    "name": "ipython",
    "version": 3
   },
   "file_extension": ".py",
   "mimetype": "text/x-python",
   "name": "python",
   "nbconvert_exporter": "python",
   "pygments_lexer": "ipython3",
   "version": "3.11.0"
  }
 },
 "nbformat": 4,
 "nbformat_minor": 5
}
